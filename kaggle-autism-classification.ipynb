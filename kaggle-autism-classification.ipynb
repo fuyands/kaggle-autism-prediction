{
 "cells": [
  {
   "cell_type": "code",
   "execution_count": 1,
   "id": "fac0ac11",
   "metadata": {
    "_cell_guid": "b1076dfc-b9ad-4769-8c92-a6c4dae69d19",
    "_uuid": "8f2839f25d086af736a60e9eeb907d3b93b6e0e5",
    "execution": {
     "iopub.execute_input": "2022-08-01T02:21:59.242878Z",
     "iopub.status.busy": "2022-08-01T02:21:59.241781Z",
     "iopub.status.idle": "2022-08-01T02:21:59.266449Z",
     "shell.execute_reply": "2022-08-01T02:21:59.265290Z"
    },
    "papermill": {
     "duration": 0.037684,
     "end_time": "2022-08-01T02:21:59.269427",
     "exception": false,
     "start_time": "2022-08-01T02:21:59.231743",
     "status": "completed"
    },
    "tags": []
   },
   "outputs": [
    {
     "name": "stdout",
     "output_type": "stream",
     "text": [
      "/kaggle/input/autism-prediction/Autism-prediction/sample_submission.csv\n",
      "/kaggle/input/autism-prediction/Autism-prediction/train.csv\n",
      "/kaggle/input/autism-prediction/Autism-prediction/test.csv\n"
     ]
    }
   ],
   "source": [
    "# This Python 3 environment comes with many helpful analytics libraries installed\n",
    "# It is defined by the kaggle/python Docker image: https://github.com/kaggle/docker-python\n",
    "# For example, here's several helpful packages to load\n",
    "\n",
    "import numpy as np # linear algebra\n",
    "import pandas as pd # data processing, CSV file I/O (e.g. pd.read_csv)\n",
    "\n",
    "# Input data files are available in the read-only \"../input/\" directory\n",
    "# For example, running this (by clicking run or pressing Shift+Enter) will list all files under the input directory\n",
    "\n",
    "import os\n",
    "for dirname, _, filenames in os.walk('/kaggle/input'):\n",
    "    for filename in filenames:\n",
    "        print(os.path.join(dirname, filename))\n",
    "\n",
    "# You can write up to 20GB to the current directory (/kaggle/working/) that gets preserved as output when you create a version using \"Save & Run All\" \n",
    "# You can also write temporary files to /kaggle/temp/, but they won't be saved outside of the current session"
   ]
  },
  {
   "cell_type": "markdown",
   "id": "1946c4a6",
   "metadata": {
    "papermill": {
     "duration": 0.006975,
     "end_time": "2022-08-01T02:21:59.283885",
     "exception": false,
     "start_time": "2022-08-01T02:21:59.276910",
     "status": "completed"
    },
    "tags": []
   },
   "source": [
    "## Load data"
   ]
  },
  {
   "cell_type": "code",
   "execution_count": 2,
   "id": "5c5989a5",
   "metadata": {
    "execution": {
     "iopub.execute_input": "2022-08-01T02:21:59.300623Z",
     "iopub.status.busy": "2022-08-01T02:21:59.300197Z",
     "iopub.status.idle": "2022-08-01T02:22:00.441092Z",
     "shell.execute_reply": "2022-08-01T02:22:00.439809Z"
    },
    "papermill": {
     "duration": 1.153056,
     "end_time": "2022-08-01T02:22:00.444088",
     "exception": false,
     "start_time": "2022-08-01T02:21:59.291032",
     "status": "completed"
    },
    "tags": []
   },
   "outputs": [
    {
     "name": "stdout",
     "output_type": "stream",
     "text": [
      "(800, 20) (200, 20)\n"
     ]
    }
   ],
   "source": [
    "import pandas as pd\n",
    "from sklearn.metrics import mean_absolute_error\n",
    "from sklearn.model_selection import train_test_split\n",
    "\n",
    "# Load the data, and separate the target\n",
    "label_col = 'Class/ASD'\n",
    "train_path = '../input/autism-prediction/Autism-prediction/train.csv'\n",
    "data = pd.read_csv(train_path, index_col='ID')\n",
    "X = data.drop(label_col, axis='columns').drop('age_desc', axis=1)\n",
    "y = data[label_col]\n",
    "\n",
    "test_path = '../input/autism-prediction/Autism-prediction/test.csv'\n",
    "X_test = pd.read_csv(test_path, index_col='ID').drop('age_desc', axis=1)\n",
    "\n",
    "X['mode']=0\n",
    "X_test['mode']=1\n",
    "X_all = pd.concat([X, X_test])\n",
    "print(X.shape, X_test.shape)"
   ]
  },
  {
   "cell_type": "markdown",
   "id": "44f41843",
   "metadata": {
    "papermill": {
     "duration": 0.007091,
     "end_time": "2022-08-01T02:22:00.458662",
     "exception": false,
     "start_time": "2022-08-01T02:22:00.451571",
     "status": "completed"
    },
    "tags": []
   },
   "source": [
    "## Explore data"
   ]
  },
  {
   "cell_type": "code",
   "execution_count": 3,
   "id": "5953b22c",
   "metadata": {
    "execution": {
     "iopub.execute_input": "2022-08-01T02:22:00.476054Z",
     "iopub.status.busy": "2022-08-01T02:22:00.475061Z",
     "iopub.status.idle": "2022-08-01T02:22:00.530833Z",
     "shell.execute_reply": "2022-08-01T02:22:00.529271Z"
    },
    "papermill": {
     "duration": 0.067368,
     "end_time": "2022-08-01T02:22:00.533540",
     "exception": false,
     "start_time": "2022-08-01T02:22:00.466172",
     "status": "completed"
    },
    "tags": []
   },
   "outputs": [
    {
     "name": "stdout",
     "output_type": "stream",
     "text": [
      "0    615\n",
      "1    185\n",
      "Name: Class/ASD, dtype: int64\n",
      "[]\n",
      "      A1_Score  A2_Score  A3_Score  A4_Score  A5_Score  A6_Score  A7_Score  \\\n",
      "mean    0.5825   0.28625   0.32125     0.415    0.4575   0.20875   0.27375   \n",
      "min     0.0000   0.00000   0.00000     0.000    0.0000   0.00000   0.00000   \n",
      "max     1.0000   1.00000   1.00000     1.000    1.0000   1.00000   1.00000   \n",
      "\n",
      "      A8_Score  A9_Score  A10_Score        age     result  mode  \n",
      "mean    0.7175   0.31625       0.46  28.612306   7.058530   0.0  \n",
      "min     0.0000   0.00000       0.00   9.560505  -2.594654   0.0  \n",
      "max     1.0000   1.00000       1.00  72.402488  13.390868   0.0  \n"
     ]
    }
   ],
   "source": [
    "# Check class ratio\n",
    "print(y.value_counts())\n",
    "\n",
    "# Check columns for missing values\n",
    "col_with_missing = [c for c in X.columns if X[c].isnull().any()]\n",
    "print(col_with_missing)\n",
    "\n",
    "# Feature type\n",
    "print(X.describe().loc[['mean', 'min', 'max']])"
   ]
  },
  {
   "cell_type": "code",
   "execution_count": 4,
   "id": "0f6e69ca",
   "metadata": {
    "execution": {
     "iopub.execute_input": "2022-08-01T02:22:00.550410Z",
     "iopub.status.busy": "2022-08-01T02:22:00.549724Z",
     "iopub.status.idle": "2022-08-01T02:22:01.118249Z",
     "shell.execute_reply": "2022-08-01T02:22:01.117108Z"
    },
    "papermill": {
     "duration": 0.579937,
     "end_time": "2022-08-01T02:22:01.120916",
     "exception": false,
     "start_time": "2022-08-01T02:22:00.540979",
     "status": "completed"
    },
    "tags": []
   },
   "outputs": [
    {
     "data": {
      "text/plain": [
       "<AxesSubplot:>"
      ]
     },
     "execution_count": 4,
     "metadata": {},
     "output_type": "execute_result"
    },
    {
     "data": {
      "image/png": "[encoded data removed]",
      "text/plain": [
       "<Figure size 432x288 with 2 Axes>"
      ]
     },
     "metadata": {
      "needs_background": "light"
     },
     "output_type": "display_data"
    }
   ],
   "source": [
    "# Feature corr\n",
    "import matplotlib.pyplot as plt\n",
    "import seaborn as sns\n",
    "\n",
    "correlation = data.corr()\n",
    "sns.heatmap(correlation, cmap=\"YlGnBu\")"
   ]
  },
  {
   "cell_type": "markdown",
   "id": "91cd8553",
   "metadata": {
    "papermill": {
     "duration": 0.007887,
     "end_time": "2022-08-01T02:22:01.137112",
     "exception": false,
     "start_time": "2022-08-01T02:22:01.129225",
     "status": "completed"
    },
    "tags": []
   },
   "source": [
    "## Process features"
   ]
  },
  {
   "cell_type": "code",
   "execution_count": 5,
   "id": "d1835e62",
   "metadata": {
    "execution": {
     "iopub.execute_input": "2022-08-01T02:22:01.155664Z",
     "iopub.status.busy": "2022-08-01T02:22:01.154519Z",
     "iopub.status.idle": "2022-08-01T02:22:01.161753Z",
     "shell.execute_reply": "2022-08-01T02:22:01.160808Z"
    },
    "papermill": {
     "duration": 0.018869,
     "end_time": "2022-08-01T02:22:01.163958",
     "exception": false,
     "start_time": "2022-08-01T02:22:01.145089",
     "status": "completed"
    },
    "tags": []
   },
   "outputs": [
    {
     "data": {
      "text/plain": [
       "Index(['A1_Score', 'A2_Score', 'A3_Score', 'A4_Score', 'A5_Score', 'A6_Score',\n",
       "       'A7_Score', 'A8_Score', 'A9_Score', 'A10_Score', 'age', 'gender',\n",
       "       'ethnicity', 'jaundice', 'austim', 'contry_of_res', 'used_app_before',\n",
       "       'result', 'relation', 'mode'],\n",
       "      dtype='object')"
      ]
     },
     "execution_count": 5,
     "metadata": {},
     "output_type": "execute_result"
    }
   ],
   "source": [
    "X_all.columns"
   ]
  },
  {
   "cell_type": "code",
   "execution_count": 6,
   "id": "a6679344",
   "metadata": {
    "execution": {
     "iopub.execute_input": "2022-08-01T02:22:01.181731Z",
     "iopub.status.busy": "2022-08-01T02:22:01.181104Z",
     "iopub.status.idle": "2022-08-01T02:22:01.202011Z",
     "shell.execute_reply": "2022-08-01T02:22:01.200735Z"
    },
    "papermill": {
     "duration": 0.033082,
     "end_time": "2022-08-01T02:22:01.204857",
     "exception": false,
     "start_time": "2022-08-01T02:22:01.171775",
     "status": "completed"
    },
    "tags": []
   },
   "outputs": [
    {
     "name": "stdout",
     "output_type": "stream",
     "text": [
      "(1000, 20)\n"
     ]
    }
   ],
   "source": [
    "# identify categorical and its cardinality for encoding\n",
    "s = (X.dtypes == 'object')\n",
    "categorical_cols = list(s[s==True].index)\n",
    "\n",
    "def encoding(X, categorical_cols):\n",
    "    # Apply one-hot encoder to each column with categorical data\n",
    "    from sklearn.preprocessing import OrdinalEncoder,OneHotEncoder\n",
    "    OH_encoder = OrdinalEncoder(handle_unknown='error')\n",
    "    X_categorical_oh = pd.DataFrame(OH_encoder.fit_transform(X[categorical_cols]))\n",
    "\n",
    "    # One-hot encoding removed index; put it back\n",
    "    X_categorical_oh.index = X.index\n",
    "    return X_categorical_oh\n",
    "    \n",
    "def process_features(X, categorical_cols):\n",
    "    '''\n",
    "    - no additional processing on numerical features\n",
    "    - one hot encoding on categorical features\n",
    "    '''\n",
    "    X_numerical = X.drop(categorical_cols, axis=1)\n",
    "    X_categorical_oh = encoding(X, categorical_cols)\n",
    "    \n",
    "    # Add one-hot encoded columns to numerical features\n",
    "    OH_X_train = pd.concat([X_numerical, X_categorical_oh], axis=1)\n",
    "    return OH_X_train\n",
    "\n",
    "EX = process_features(X_all, categorical_cols)\n",
    "print(EX.shape)"
   ]
  },
  {
   "cell_type": "markdown",
   "id": "87d1014b",
   "metadata": {
    "execution": {
     "iopub.execute_input": "2022-07-26T02:30:18.802802Z",
     "iopub.status.busy": "2022-07-26T02:30:18.802445Z",
     "iopub.status.idle": "2022-07-26T02:30:18.807157Z",
     "shell.execute_reply": "2022-07-26T02:30:18.806000Z",
     "shell.execute_reply.started": "2022-07-26T02:30:18.802770Z"
    },
    "papermill": {
     "duration": 0.007829,
     "end_time": "2022-08-01T02:22:01.221084",
     "exception": false,
     "start_time": "2022-08-01T02:22:01.213255",
     "status": "completed"
    },
    "tags": []
   },
   "source": [
    "## Train model"
   ]
  },
  {
   "cell_type": "code",
   "execution_count": 7,
   "id": "4916ccb5",
   "metadata": {
    "execution": {
     "iopub.execute_input": "2022-08-01T02:22:01.239401Z",
     "iopub.status.busy": "2022-08-01T02:22:01.238711Z",
     "iopub.status.idle": "2022-08-01T02:22:01.248228Z",
     "shell.execute_reply": "2022-08-01T02:22:01.246843Z"
    },
    "papermill": {
     "duration": 0.022287,
     "end_time": "2022-08-01T02:22:01.251507",
     "exception": false,
     "start_time": "2022-08-01T02:22:01.229220",
     "status": "completed"
    },
    "tags": []
   },
   "outputs": [
    {
     "name": "stdout",
     "output_type": "stream",
     "text": [
      "(640, 20) (160, 20)\n"
     ]
    }
   ],
   "source": [
    "from sklearn.model_selection import train_test_split\n",
    "X_train, X_val, y_train, y_val = train_test_split(EX[EX['mode']==0], y, random_state=11, test_size=0.2)\n",
    "print(X_train.shape, X_val.shape)"
   ]
  },
  {
   "cell_type": "code",
   "execution_count": 8,
   "id": "a32046b4",
   "metadata": {
    "execution": {
     "iopub.execute_input": "2022-08-01T02:22:01.270615Z",
     "iopub.status.busy": "2022-08-01T02:22:01.269950Z",
     "iopub.status.idle": "2022-08-01T02:22:03.708574Z",
     "shell.execute_reply": "2022-08-01T02:22:03.707187Z"
    },
    "papermill": {
     "duration": 2.45225,
     "end_time": "2022-08-01T02:22:03.712390",
     "exception": false,
     "start_time": "2022-08-01T02:22:01.260140",
     "status": "completed"
    },
    "tags": []
   },
   "outputs": [
    {
     "name": "stderr",
     "output_type": "stream",
     "text": [
      "/opt/conda/lib/python3.7/site-packages/xgboost/sklearn.py:797: UserWarning: `early_stopping_rounds` in `fit` method is deprecated for better compatibility with scikit-learn, use `early_stopping_rounds` in constructor or`set_params` instead.\n",
      "  UserWarning,\n"
     ]
    },
    {
     "name": "stdout",
     "output_type": "stream",
     "text": [
      "ROC:0.81640625, Accuracy:0.875, r2_train:0.953125\n"
     ]
    }
   ],
   "source": [
    "# Define XGB\n",
    "\n",
    "from xgboost import XGBClassifier\n",
    "from sklearn.metrics import roc_auc_score, accuracy_score\n",
    "\n",
    "gbt_model = XGBClassifier(n_estimators=1000, learning_rate=0.04, alpha=1, n_jobs=8)\n",
    "gbt_model.fit(X_train, y_train, \n",
    "             early_stopping_rounds=200, \n",
    "             eval_set=[(X_val, y_val)], \n",
    "             verbose=False)\n",
    "pred_val = gbt_model.predict(X_val) # binary prediction\n",
    "r2_train = gbt_model.score(X_train, y_train)\n",
    "\n",
    "gbt_acc = accuracy_score(y_val, pred_val)\n",
    "gbt_roc = roc_auc_score(y_val, pred_val)\n",
    "print(\"ROC:{}, Accuracy:{}, r2_train:{}\".format(gbt_roc, gbt_acc, r2_train))"
   ]
  },
  {
   "cell_type": "code",
   "execution_count": 9,
   "id": "1540a90b",
   "metadata": {
    "execution": {
     "iopub.execute_input": "2022-08-01T02:22:03.731188Z",
     "iopub.status.busy": "2022-08-01T02:22:03.730776Z",
     "iopub.status.idle": "2022-08-01T02:22:03.845410Z",
     "shell.execute_reply": "2022-08-01T02:22:03.844097Z"
    },
    "papermill": {
     "duration": 0.132478,
     "end_time": "2022-08-01T02:22:03.853568",
     "exception": false,
     "start_time": "2022-08-01T02:22:03.721090",
     "status": "completed"
    },
    "tags": []
   },
   "outputs": [
    {
     "name": "stdout",
     "output_type": "stream",
     "text": [
      "ROC:0.8046875, Accuracy:0.85625, r2_train:0.884375\n"
     ]
    },
    {
     "name": "stderr",
     "output_type": "stream",
     "text": [
      "/opt/conda/lib/python3.7/site-packages/sklearn/utils/validation.py:1692: FutureWarning: Feature names only support names that are all strings. Got feature names with dtypes: ['int', 'str']. An error will be raised in 1.2.\n",
      "  FutureWarning,\n",
      "/opt/conda/lib/python3.7/site-packages/sklearn/utils/validation.py:1692: FutureWarning: Feature names only support names that are all strings. Got feature names with dtypes: ['int', 'str']. An error will be raised in 1.2.\n",
      "  FutureWarning,\n",
      "/opt/conda/lib/python3.7/site-packages/sklearn/utils/validation.py:1692: FutureWarning: Feature names only support names that are all strings. Got feature names with dtypes: ['int', 'str']. An error will be raised in 1.2.\n",
      "  FutureWarning,\n"
     ]
    }
   ],
   "source": [
    "# RidgeClassifier\n",
    "\n",
    "from sklearn.linear_model import RidgeClassifier\n",
    "from sklearn.metrics import roc_auc_score, accuracy_score\n",
    "\n",
    "rc_model = RidgeClassifier(alpha=5, fit_intercept=True, random_state=1)\n",
    "rc_model.fit(X_train, y_train)\n",
    "pred_val = rc_model.predict(X_val) # binary prediction\n",
    "r2_train = rc_model.score(X_train, y_train)\n",
    "\n",
    "rc_acc = accuracy_score(y_val, pred_val)\n",
    "rc_roc = roc_auc_score(y_val, pred_val)\n",
    "print(\"ROC:{}, Accuracy:{}, r2_train:{}\".format(rc_roc, rc_acc, r2_train))"
   ]
  },
  {
   "cell_type": "code",
   "execution_count": 10,
   "id": "ebf984c3",
   "metadata": {
    "execution": {
     "iopub.execute_input": "2022-08-01T02:22:03.883693Z",
     "iopub.status.busy": "2022-08-01T02:22:03.883051Z",
     "iopub.status.idle": "2022-08-01T02:22:10.696601Z",
     "shell.execute_reply": "2022-08-01T02:22:10.693459Z"
    },
    "papermill": {
     "duration": 6.832576,
     "end_time": "2022-08-01T02:22:10.700287",
     "exception": false,
     "start_time": "2022-08-01T02:22:03.867711",
     "status": "completed"
    },
    "tags": []
   },
   "outputs": [
    {
     "name": "stderr",
     "output_type": "stream",
     "text": [
      "/opt/conda/lib/python3.7/site-packages/sklearn/utils/validation.py:1692: FutureWarning: Feature names only support names that are all strings. Got feature names with dtypes: ['int', 'str']. An error will be raised in 1.2.\n",
      "  FutureWarning,\n",
      "/opt/conda/lib/python3.7/site-packages/sklearn/gaussian_process/kernels.py:437: ConvergenceWarning: The optimal value found for dimension 0 of parameter k1__constant_value is close to the specified upper bound 100000.0. Increasing the bound and calling fit again may find a better value.\n",
      "  ConvergenceWarning,\n"
     ]
    },
    {
     "name": "stdout",
     "output_type": "stream",
     "text": [
      "ROC:0.8203125, Accuracy:0.8625, r2_train:0.8859375\n"
     ]
    },
    {
     "name": "stderr",
     "output_type": "stream",
     "text": [
      "/opt/conda/lib/python3.7/site-packages/sklearn/utils/validation.py:1692: FutureWarning: Feature names only support names that are all strings. Got feature names with dtypes: ['int', 'str']. An error will be raised in 1.2.\n",
      "  FutureWarning,\n",
      "/opt/conda/lib/python3.7/site-packages/sklearn/utils/validation.py:1692: FutureWarning: Feature names only support names that are all strings. Got feature names with dtypes: ['int', 'str']. An error will be raised in 1.2.\n",
      "  FutureWarning,\n"
     ]
    }
   ],
   "source": [
    "from sklearn.gaussian_process import GaussianProcessClassifier\n",
    "from sklearn.gaussian_process.kernels import RBF\n",
    "from sklearn.metrics import roc_auc_score, accuracy_score\n",
    "\n",
    "gp_model = GaussianProcessClassifier(1.0 * RBF(1.0), random_state=1)\n",
    "gp_model.fit(X_train, y_train)\n",
    "pred_val = gp_model.predict(X_val) # binary prediction\n",
    "r2_train = gp_model.score(X_train, y_train)\n",
    "\n",
    "gp_acc = accuracy_score(y_val, pred_val)\n",
    "gp_roc = roc_auc_score(y_val, pred_val)\n",
    "print(\"ROC:{}, Accuracy:{}, r2_train:{}\".format(gp_roc, gp_acc, r2_train))"
   ]
  },
  {
   "cell_type": "code",
   "execution_count": 11,
   "id": "b7fbe83d",
   "metadata": {
    "execution": {
     "iopub.execute_input": "2022-08-01T02:22:10.741762Z",
     "iopub.status.busy": "2022-08-01T02:22:10.740406Z",
     "iopub.status.idle": "2022-08-01T02:22:11.174273Z",
     "shell.execute_reply": "2022-08-01T02:22:11.171993Z"
    },
    "papermill": {
     "duration": 0.454003,
     "end_time": "2022-08-01T02:22:11.176914",
     "exception": false,
     "start_time": "2022-08-01T02:22:10.722911",
     "status": "completed"
    },
    "tags": []
   },
   "outputs": [
    {
     "name": "stderr",
     "output_type": "stream",
     "text": [
      "/opt/conda/lib/python3.7/site-packages/sklearn/utils/validation.py:1692: FutureWarning: Feature names only support names that are all strings. Got feature names with dtypes: ['int', 'str']. An error will be raised in 1.2.\n",
      "  FutureWarning,\n"
     ]
    },
    {
     "name": "stdout",
     "output_type": "stream",
     "text": [
      "ROC:0.83203125, Accuracy:0.88125, r2_train:0.9953125\n"
     ]
    },
    {
     "name": "stderr",
     "output_type": "stream",
     "text": [
      "/opt/conda/lib/python3.7/site-packages/sklearn/utils/validation.py:1692: FutureWarning: Feature names only support names that are all strings. Got feature names with dtypes: ['int', 'str']. An error will be raised in 1.2.\n",
      "  FutureWarning,\n",
      "/opt/conda/lib/python3.7/site-packages/sklearn/utils/validation.py:1692: FutureWarning: Feature names only support names that are all strings. Got feature names with dtypes: ['int', 'str']. An error will be raised in 1.2.\n",
      "  FutureWarning,\n"
     ]
    }
   ],
   "source": [
    "# RidgeClassifier\n",
    "\n",
    "from sklearn.ensemble import RandomForestClassifier\n",
    "\n",
    "rf_model = RandomForestClassifier(max_depth=10, random_state=1)\n",
    "rf_model.fit(X_train, y_train)\n",
    "pred_val = rf_model.predict(X_val) # binary prediction\n",
    "r2_train = rf_model.score(X_train, y_train)\n",
    "\n",
    "rf_acc = accuracy_score(y_val, pred_val)\n",
    "rf_roc = roc_auc_score(y_val, pred_val)\n",
    "print(\"ROC:{}, Accuracy:{}, r2_train:{}\".format(rf_roc, rf_acc, r2_train))"
   ]
  },
  {
   "cell_type": "code",
   "execution_count": 12,
   "id": "9a5265fb",
   "metadata": {
    "execution": {
     "iopub.execute_input": "2022-08-01T02:22:11.197581Z",
     "iopub.status.busy": "2022-08-01T02:22:11.197166Z",
     "iopub.status.idle": "2022-08-01T02:22:11.219631Z",
     "shell.execute_reply": "2022-08-01T02:22:11.218459Z"
    },
    "papermill": {
     "duration": 0.035807,
     "end_time": "2022-08-01T02:22:11.222287",
     "exception": false,
     "start_time": "2022-08-01T02:22:11.186480",
     "status": "completed"
    },
    "tags": []
   },
   "outputs": [
    {
     "data": {
      "text/plain": [
       "[('gender', 0.13932362564621928),\n",
       " ('A3_Score', 0.09795343107115817),\n",
       " ('A6_Score', 0.09709911298605406),\n",
       " ('A9_Score', 0.09458225292150074),\n",
       " ('age', 0.08652434451659925),\n",
       " ('A4_Score', 0.08640886803552668),\n",
       " ('result', 0.06890459080743741),\n",
       " ('austim', 0.06058777304865773),\n",
       " ('A5_Score', 0.056210774853208766),\n",
       " ('A2_Score', 0.038350971635200806),\n",
       " ('A10_Score', 0.033949806958260116),\n",
       " ('used_app_before', 0.024406598057377233),\n",
       " ('A7_Score', 0.02357193615976277),\n",
       " ('contry_of_res', 0.02183161327538825),\n",
       " ('mode', 0.01878939962313562),\n",
       " ('A1_Score', 0.018451814744218545),\n",
       " ('jaundice', 0.01692624760837696),\n",
       " ('A8_Score', 0.012284191941053282),\n",
       " ('relation', 0.003842646110864376),\n",
       " ('ethnicity', 0.0)]"
      ]
     },
     "execution_count": 12,
     "metadata": {},
     "output_type": "execute_result"
    }
   ],
   "source": [
    "# feature importance\n",
    "importance = rf_model.feature_importances_\n",
    "sorted(zip(X_all.columns, importance), key=lambda x:-x[1])"
   ]
  },
  {
   "cell_type": "markdown",
   "id": "1f82d00e",
   "metadata": {
    "papermill": {
     "duration": 0.009037,
     "end_time": "2022-08-01T02:22:11.240835",
     "exception": false,
     "start_time": "2022-08-01T02:22:11.231798",
     "status": "completed"
    },
    "tags": []
   },
   "source": [
    "## Submit predictions"
   ]
  },
  {
   "cell_type": "code",
   "execution_count": 13,
   "id": "2aa99d75",
   "metadata": {
    "execution": {
     "iopub.execute_input": "2022-08-01T02:22:11.261589Z",
     "iopub.status.busy": "2022-08-01T02:22:11.260812Z",
     "iopub.status.idle": "2022-08-01T02:22:11.283289Z",
     "shell.execute_reply": "2022-08-01T02:22:11.281331Z"
    },
    "papermill": {
     "duration": 0.03616,
     "end_time": "2022-08-01T02:22:11.286456",
     "exception": false,
     "start_time": "2022-08-01T02:22:11.250296",
     "status": "completed"
    },
    "tags": []
   },
   "outputs": [
    {
     "name": "stderr",
     "output_type": "stream",
     "text": [
      "/opt/conda/lib/python3.7/site-packages/sklearn/utils/validation.py:1692: FutureWarning: Feature names only support names that are all strings. Got feature names with dtypes: ['int', 'str']. An error will be raised in 1.2.\n",
      "  FutureWarning,\n"
     ]
    },
    {
     "data": {
      "text/plain": [
       "0    162\n",
       "1     38\n",
       "dtype: int64"
      ]
     },
     "execution_count": 13,
     "metadata": {},
     "output_type": "execute_result"
    }
   ],
   "source": [
    "# making prediction\n",
    "test_preds = gp_model.predict(EX[EX['mode']==1])\n",
    "pd.Series(test_preds).value_counts()"
   ]
  },
  {
   "cell_type": "code",
   "execution_count": 14,
   "id": "11c87503",
   "metadata": {
    "execution": {
     "iopub.execute_input": "2022-08-01T02:22:11.321160Z",
     "iopub.status.busy": "2022-08-01T02:22:11.319699Z",
     "iopub.status.idle": "2022-08-01T02:22:11.336513Z",
     "shell.execute_reply": "2022-08-01T02:22:11.335184Z"
    },
    "papermill": {
     "duration": 0.037794,
     "end_time": "2022-08-01T02:22:11.340075",
     "exception": false,
     "start_time": "2022-08-01T02:22:11.302281",
     "status": "completed"
    },
    "tags": []
   },
   "outputs": [],
   "source": [
    "EX[EX['mode']==1].reset_index()\n",
    "\n",
    "output = pd.DataFrame({'Id': EX[EX['mode']==1].index,\n",
    "                       label_col: test_preds})\n",
    "output.to_csv('submission.csv', index=False)"
   ]
  },
  {
   "cell_type": "code",
   "execution_count": null,
   "id": "7bb72b09",
   "metadata": {
    "papermill": {
     "duration": 0.014891,
     "end_time": "2022-08-01T02:22:11.370550",
     "exception": false,
     "start_time": "2022-08-01T02:22:11.355659",
     "status": "completed"
    },
    "tags": []
   },
   "outputs": [],
   "source": []
  },
  {
   "cell_type": "code",
   "execution_count": null,
   "id": "a6d3c657",
   "metadata": {
    "papermill": {
     "duration": 0.011817,
     "end_time": "2022-08-01T02:22:11.397953",
     "exception": false,
     "start_time": "2022-08-01T02:22:11.386136",
     "status": "completed"
    },
    "tags": []
   },
   "outputs": [],
   "source": []
  }
 ],
 "metadata": {
  "kernelspec": {
   "display_name": "Python 3",
   "language": "python",
   "name": "python3"
  },
  "language_info": {
   "codemirror_mode": {
    "name": "ipython",
    "version": 3
   },
   "file_extension": ".py",
   "mimetype": "text/x-python",
   "name": "python",
   "nbconvert_exporter": "python",
   "pygments_lexer": "ipython3",
   "version": "3.7.12"
  },
  "papermill": {
   "default_parameters": {},
   "duration": 23.551467,
   "end_time": "2022-08-01T02:22:12.130143",
   "environment_variables": {},
   "exception": null,
   "input_path": "__notebook__.ipynb",
   "output_path": "__notebook__.ipynb",
   "parameters": {},
   "start_time": "2022-08-01T02:21:48.578676",
   "version": "2.3.4"
  }
 },
 "nbformat": 4,
 "nbformat_minor": 5
}
